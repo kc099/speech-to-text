{
 "cells": [
  {
   "cell_type": "code",
   "execution_count": 2,
   "id": "45cef17c",
   "metadata": {},
   "outputs": [],
   "source": [
    "import torch\n",
    "import torch.nn as nn\n",
    "from conformer import ConformerBlock"
   ]
  },
  {
   "cell_type": "code",
   "execution_count": 3,
   "id": "4b7263b6",
   "metadata": {},
   "outputs": [],
   "source": [
    "batch_size, sequence_length, dim = 64, 1930, 80\n",
    "\n",
    "# cuda = torch.cuda.is_available()  \n",
    "# device = torch.device('cuda' if cuda else 'cpu')\n",
    "\n",
    "inputs = torch.rand(batch_size, sequence_length, dim)\n",
    "input_lengths = torch.IntTensor([])\n",
    "# targets = torch.LongTensor([[1, 3, 3, 3, 3, 3, 4, 5, 6, 2],\n",
    "#                             [1, 3, 3, 3, 3, 3, 4, 5, 2, 0],\n",
    "#                             [1, 3, 3, 3, 3, 3, 4, 2, 0, 0]]).to(device)\n",
    "# target_lengths = torch.LongTensor([9, 8, 7])\n",
    "\n",
    "\n"
   ]
  },
  {
   "cell_type": "code",
   "execution_count": 4,
   "id": "731c4a76",
   "metadata": {},
   "outputs": [],
   "source": [
    "class Conv2dSubampling(nn.Module):\n",
    "    \"\"\"\n",
    "    Convolutional 2D subsampling (to 1/4 length)\n",
    "    Args:\n",
    "        in_channels (int): Number of channels in the input image\n",
    "        out_channels (int): Number of channels produced by the convolution\n",
    "    Inputs: inputs\n",
    "        - **inputs** (batch, time, dim): Tensor containing sequence of inputs\n",
    "    Returns: outputs, output_lengths\n",
    "        - **outputs** (batch, time, dim): Tensor produced by the convolution\n",
    "        - **output_lengths** (batch): list of sequence output lengths\n",
    "    \"\"\"\n",
    "    def __init__(self, in_channels: int, out_channels: int) -> None:\n",
    "        super(Conv2dSubampling, self).__init__()\n",
    "        self.sequential = nn.Sequential(\n",
    "            nn.Conv2d(in_channels, out_channels, kernel_size=3, stride=2),\n",
    "            nn.ReLU(),\n",
    "            nn.Conv2d(out_channels, out_channels, kernel_size=3, stride=2),\n",
    "            nn.ReLU(),\n",
    "        )\n",
    "\n",
    "    def forward(self, inputs, input_lengths):\n",
    "        outputs = self.sequential(inputs.unsqueeze(1))\n",
    "#         print(outputs.size())\n",
    "        batch_size, channels, subsampled_lengths, sumsampled_dim = outputs.size()\n",
    "\n",
    "        outputs = outputs.permute(0, 2, 1, 3)\n",
    "        outputs = outputs.contiguous().view(batch_size, subsampled_lengths, channels * sumsampled_dim)\n",
    "\n",
    "        output_lengths = input_lengths >> 2\n",
    "        output_lengths -= 1\n",
    "\n",
    "        return outputs, output_lengths"
   ]
  },
  {
   "cell_type": "code",
   "execution_count": 5,
   "id": "38cee5bd",
   "metadata": {},
   "outputs": [
    {
     "name": "stdout",
     "output_type": "stream",
     "text": [
      "torch.Size([64, 1930, 80])\n"
     ]
    }
   ],
   "source": [
    "print(inputs.size())"
   ]
  },
  {
   "cell_type": "code",
   "execution_count": 6,
   "id": "6cedc913",
   "metadata": {},
   "outputs": [],
   "source": [
    "outputs = Conv2dSubampling(1, 80).forward(inputs, input_lengths)"
   ]
  },
  {
   "cell_type": "code",
   "execution_count": 7,
   "id": "ba7f1ad8",
   "metadata": {},
   "outputs": [
    {
     "name": "stdout",
     "output_type": "stream",
     "text": [
      "torch.Size([64, 731120]) tensor([], dtype=torch.int32)\n"
     ]
    }
   ],
   "source": [
    "print(outputs[0].reshape(outputs[0].shape[0],-1).size(), outputs[1])"
   ]
  },
  {
   "cell_type": "code",
   "execution_count": 14,
   "id": "fa18025a",
   "metadata": {},
   "outputs": [
    {
     "name": "stdout",
     "output_type": "stream",
     "text": [
      "torch.Size([64, 768])\n"
     ]
    }
   ],
   "source": [
    "outp = nn.Linear(731120, 768).forward(outputs[0].reshape(outputs[0].shape[0],-1))\n",
    "print(outp.shape)"
   ]
  },
  {
   "cell_type": "code",
   "execution_count": 7,
   "id": "b8dc3785",
   "metadata": {},
   "outputs": [],
   "source": [
    "block = ConformerBlock(\n",
    "    dim = 1520,\n",
    "    dim_head = 64,\n",
    "    heads = 4,\n",
    "    ff_mult = 2,\n",
    "    conv_expansion_factor = 2,\n",
    "    conv_kernel_size = 31,\n",
    "    attn_dropout = 0.2,\n",
    "    ff_dropout = 0.1,\n",
    "    conv_dropout = 0.2\n",
    ")\n",
    "y = block(outputs[0]) # (1, 1024, 512)"
   ]
  },
  {
   "cell_type": "code",
   "execution_count": 30,
   "id": "934546ea",
   "metadata": {},
   "outputs": [
    {
     "data": {
      "text/plain": [
       "758480"
      ]
     },
     "execution_count": 30,
     "metadata": {},
     "output_type": "execute_result"
    }
   ],
   "source": [
    "# print(y.size())\n",
    "499*1520"
   ]
  },
  {
   "cell_type": "code",
   "execution_count": 15,
   "id": "9f35a325",
   "metadata": {},
   "outputs": [
    {
     "name": "stdout",
     "output_type": "stream",
     "text": [
      "torch.Size([64, 1, 768])\n",
      "torch.Size([64, 20, 768])\n"
     ]
    }
   ],
   "source": [
    "outs = torch.ones((64, 63), dtype=torch.long)\n",
    "print(outp.unsqueeze(1).shape)\n",
    "embed = nn.Embedding(20000, 768)(outs)\n",
    "print(embed.shape)"
   ]
  },
  {
   "cell_type": "code",
   "execution_count": 21,
   "id": "79663518",
   "metadata": {},
   "outputs": [
    {
     "name": "stdout",
     "output_type": "stream",
     "text": [
      "torch.Size([64, 20, 768])\n",
      "torch.Size([64, 20, 1536])\n"
     ]
    }
   ],
   "source": [
    "print(outp.unsqueeze(1).repeat(1, 20, 1).shape)\n",
    "embeddings = torch.cat((outp.unsqueeze(1).repeat(1, embed.shape[1], 1), embed), dim=2)\n",
    "print(embeddings.shape)"
   ]
  },
  {
   "cell_type": "code",
   "execution_count": 27,
   "id": "0e52678d",
   "metadata": {},
   "outputs": [
    {
     "name": "stdout",
     "output_type": "stream",
     "text": [
      "torch.Size([64, 20, 320])\n"
     ]
    }
   ],
   "source": [
    "lst = nn.LSTM(1536, 320, 1)(embeddings)\n",
    "print(lst[0].shape)"
   ]
  },
  {
   "cell_type": "code",
   "execution_count": 46,
   "id": "a8f1be04",
   "metadata": {},
   "outputs": [],
   "source": [
    "class EncoderCNN(nn.Module):\n",
    "    def __init__(self, embed_size):\n",
    "        super(EncoderCNN, self).__init__()\n",
    "        self.conv2dss = Conv2dSubampling(1, 80)\n",
    "        self.linear = nn.Linear(731120, 768)\n",
    "        self.relu = nn.ReLU()\n",
    "        self.dropout = nn.Dropout(0.5)\n",
    "        self.conformer = ConformerBlock(dim = 1520, dim_head = 64, heads = 4, ff_mult = 2, conv_expansion_factor = 2,\n",
    "                                        conv_kernel_size = 31, attn_dropout = 0.2, ff_dropout = 0.1, conv_dropout = 0.2)\n",
    "\n",
    "    def forward(self, waves):\n",
    "        features = self.conv2dss(waves, torch.tensor([]))\n",
    "        features = self.conformer(features[0])\n",
    "        return self.dropout(self.relu(self.linear(features.reshape(features.shape[0], -1))))"
   ]
  },
  {
   "cell_type": "code",
   "execution_count": 37,
   "id": "602e0caa",
   "metadata": {},
   "outputs": [
    {
     "name": "stdout",
     "output_type": "stream",
     "text": [
      "torch.Size([64, 768])\n"
     ]
    }
   ],
   "source": [
    "enc = EncoderCNN(768)(inputs)\n",
    "print(enc.shape)"
   ]
  },
  {
   "cell_type": "code",
   "execution_count": 39,
   "id": "e3e5b389",
   "metadata": {},
   "outputs": [
    {
     "name": "stdout",
     "output_type": "stream",
     "text": [
      "torch.Size([64, 20, 20000])\n"
     ]
    }
   ],
   "source": [
    "dec = DecoderRNN(768, 320, 20000, 1)(enc, outs)\n",
    "print(dec.shape)"
   ]
  },
  {
   "cell_type": "code",
   "execution_count": 24,
   "id": "e3b7fbca",
   "metadata": {},
   "outputs": [],
   "source": [
    "class DecoderRNN(nn.Module):\n",
    "    def __init__(self, embed_size, hidden_size, vocab_size, num_layers):\n",
    "        super(DecoderRNN, self).__init__()\n",
    "        self.embed = nn.Embedding(vocab_size, embed_size)\n",
    "        self.lstm = nn.LSTM(embed_size*2, hidden_size, num_layers)\n",
    "        self.linear = nn.Linear(hidden_size, vocab_size)\n",
    "        self.dropout = nn.Dropout(0.5)\n",
    "\n",
    "    def forward(self, features, captions):\n",
    "        embeddings = self.dropout(self.embed(captions))\n",
    "        embeddings = torch.cat((features.unsqueeze(1).repeat(1, embeddings.shape[1], 1), embeddings), dim=2)\n",
    "        hiddens, _ = self.lstm(embeddings)\n",
    "        outputs = self.linear(hiddens)\n",
    "        return outputs"
   ]
  },
  {
   "cell_type": "code",
   "execution_count": 45,
   "id": "51522a0f",
   "metadata": {},
   "outputs": [],
   "source": [
    "class ConformerEncDec(nn.Module):\n",
    "    def __init__(self, embed_size, hidden_size, vocab_size, num_layers):\n",
    "        super(CNNtoRNN, self).__init__()\n",
    "        self.encoderCNN = EncoderCNN(embed_size)\n",
    "        self.decoderRNN = DecoderRNN(embed_size, hidden_size, vocab_size, num_layers)\n",
    "\n",
    "    def forward(self, images, captions):\n",
    "        features = self.encoderCNN(images)\n",
    "        outputs = self.decoderRNN(features, captions)\n",
    "        return outputs\n",
    "\n",
    "    def predict_caption(self, waves, vocab, max_length=88):\n",
    "        result_caption = []\n",
    "\n",
    "        with torch.no_grad():\n",
    "            x = self.encoderCNN(waves).unsqueeze(0)\n",
    "            states = None\n",
    "\n",
    "            for _ in range(max_length):\n",
    "                hiddens, states = self.decoderRNN.lstm(x, states)\n",
    "                output = self.decoderRNN.linear(hiddens.squeeze(0))\n",
    "                predicted = output.argmax(2)\n",
    "                result_caption.append(predicted.item())\n",
    "                x = self.decoderRNN.embed(predicted).unsqueeze()\n",
    "\n",
    "                if vocab.__getitem__(predicted.item()) == \"<eos>\":\n",
    "                    break\n",
    "\n",
    "        return vocab.lookup_indices(result_caption)"
   ]
  },
  {
   "cell_type": "code",
   "execution_count": 42,
   "id": "61de6b0b",
   "metadata": {},
   "outputs": [],
   "source": [
    "model = ConformerEncDec(768, 320, 20000, 1)(inputs, outs)"
   ]
  },
  {
   "cell_type": "code",
   "execution_count": 1,
   "id": "725e54c5",
   "metadata": {},
   "outputs": [
    {
     "ename": "NameError",
     "evalue": "name 'inputs' is not defined",
     "output_type": "error",
     "traceback": [
      "\u001b[0;31m---------------------------------------------------------------------------\u001b[0m",
      "\u001b[0;31mNameError\u001b[0m                                 Traceback (most recent call last)",
      "\u001b[0;32m<ipython-input-1-398f8135ab36>\u001b[0m in \u001b[0;36m<module>\u001b[0;34m\u001b[0m\n\u001b[0;32m----> 1\u001b[0;31m \u001b[0mprint\u001b[0m\u001b[0;34m(\u001b[0m\u001b[0minputs\u001b[0m\u001b[0;34m.\u001b[0m\u001b[0mshape\u001b[0m\u001b[0;34m)\u001b[0m\u001b[0;34m\u001b[0m\u001b[0;34m\u001b[0m\u001b[0m\n\u001b[0m\u001b[1;32m      2\u001b[0m \u001b[0mprint\u001b[0m\u001b[0;34m(\u001b[0m\u001b[0mouts\u001b[0m\u001b[0;34m.\u001b[0m\u001b[0mshape\u001b[0m\u001b[0;34m)\u001b[0m\u001b[0;34m\u001b[0m\u001b[0;34m\u001b[0m\u001b[0m\n",
      "\u001b[0;31mNameError\u001b[0m: name 'inputs' is not defined"
     ]
    }
   ],
   "source": [
    "print(inputs.shape)\n",
    "print(outs.shape)"
   ]
  },
  {
   "cell_type": "code",
   "execution_count": 9,
   "id": "f93413bf",
   "metadata": {},
   "outputs": [
    {
     "name": "stdout",
     "output_type": "stream",
     "text": [
      "tensor([[-0.4995,  0.0689, -0.2849,  0.7602, -0.0645],\n",
      "        [-0.0924, -0.5724, -0.4970,  1.3827,  0.6878],\n",
      "        [ 1.8441,  1.1221, -1.1771,  1.1200, -0.7552]], requires_grad=True)\n"
     ]
    }
   ],
   "source": [
    "input = torch.randn(3, 5, requires_grad=True)\n",
    "print(input)"
   ]
  }
 ],
 "metadata": {
  "kernelspec": {
   "display_name": "Python 3",
   "language": "python",
   "name": "python3"
  },
  "language_info": {
   "codemirror_mode": {
    "name": "ipython",
    "version": 3
   },
   "file_extension": ".py",
   "mimetype": "text/x-python",
   "name": "python",
   "nbconvert_exporter": "python",
   "pygments_lexer": "ipython3",
   "version": "3.9.4"
  }
 },
 "nbformat": 4,
 "nbformat_minor": 5
}
